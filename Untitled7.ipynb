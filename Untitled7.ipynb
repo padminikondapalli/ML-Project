{
 "cells": [
  {
   "cell_type": "code",
   "execution_count": null,
   "metadata": {
    "executionInfo": {
     "elapsed": 14,
     "status": "ok",
     "timestamp": 1753074860768,
     "user": {
      "displayName": "padmini Kondapalli",
      "userId": "14629675790442840519"
     },
     "user_tz": -330
    },
    "id": "T5Oo57vuV8rx"
   },
   "outputs": [
    {
     "ename": "",
     "evalue": "",
     "output_type": "error",
     "traceback": [
      "\u001b[1;31mRunning cells with 'Python 3.10.11' requires the ipykernel package.\n",
      "\u001b[1;31m<a href='command:jupyter.createPythonEnvAndSelectController'>Create a Python Environment</a> with the required packages.\n",
      "\u001b[1;31mOr install 'ipykernel' using the command: 'c:/Users/91939/AppData/Local/Programs/Python/Python310/python.exe -m pip install ipykernel -U --user --force-reinstall'"
     ]
    }
   ],
   "source": [
    "import pandas as pd\n",
    "import numpy as np\n",
    "import seaborn as sns\n",
    "import matplotlib.pyplot as plt\n",
    "from sklearn.feature_extraction.text import TfidfVectorizer\n",
    "from sklearn.preprocessing import LabelEncoder\n",
    "from sklearn.svm import LinearSVC\n",
    "from sklearn.model_selection import train_test_split\n",
    "from sklearn.metrics import accuracy_score, classification_report"
   ]
  },
  {
   "cell_type": "code",
   "execution_count": null,
   "metadata": {
    "colab": {
     "base_uri": "https://localhost:8080/",
     "height": 670
    },
    "executionInfo": {
     "elapsed": 1393,
     "status": "ok",
     "timestamp": 1753074862164,
     "user": {
      "displayName": "padmini Kondapalli",
      "userId": "14629675790442840519"
     },
     "user_tz": -330
    },
    "id": "x_xkNwZmWejQ",
    "outputId": "b36aa77a-deeb-48d4-caef-658a9732a0d6"
   },
   "outputs": [],
   "source": [
    "train_data = pd.read_csv(\"train_data.txt\", sep=':::', names=['ID', 'TITLE', 'GENRE', 'DESCRIPTION'],engine='python')\n",
    "display(train_data.head())\n",
    "print(train_data.shape)\n",
    "\n",
    "test_data = pd.read_csv(\"test_data.txt\", sep=':::', names=['ID', 'TITLE', 'GENRE', 'DESCRIPTION'],engine='python')\n",
    "print(display(test_data.head()))\n",
    "print(test_data.shape)\n",
    "\n",
    "test_solution_data = pd.read_csv(\"test_data_solution.txt\", sep=':::', names=['ID', 'TITLE', 'GENRE', 'DESCRIPTION'],engine='python')\n",
    "print(display (test_solution_data.head()))\n",
    "print(test_solution_data.shape)"
   ]
  },
  {
   "cell_type": "code",
   "execution_count": null,
   "metadata": {
    "colab": {
     "base_uri": "https://localhost:8080/",
     "height": 600
    },
    "executionInfo": {
     "elapsed": 540,
     "status": "ok",
     "timestamp": 1753074862706,
     "user": {
      "displayName": "padmini Kondapalli",
      "userId": "14629675790442840519"
     },
     "user_tz": -330
    },
    "id": "1zxYjRsZWjid",
    "outputId": "8b8b34bf-38a6-4d5c-eb1c-f85c32516f95"
   },
   "outputs": [],
   "source": [
    "plt.figure(figsize=(20,8))\n",
    "sns.countplot(y=train_data['GENRE'], order = train_data['GENRE'].value_counts().index)\n",
    "plt.title('Number of Movies per Genre')\n",
    "plt.xlabel('Number of Movies')\n",
    "plt.ylabel('Genre')\n",
    "plt.show()"
   ]
  },
  {
   "cell_type": "code",
   "execution_count": null,
   "metadata": {
    "colab": {
     "base_uri": "https://localhost:8080/",
     "height": 940
    },
    "executionInfo": {
     "elapsed": 1264,
     "status": "ok",
     "timestamp": 1753074863973,
     "user": {
      "displayName": "padmini Kondapalli",
      "userId": "14629675790442840519"
     },
     "user_tz": -330
    },
    "id": "pNGj-PCgWnY_",
    "outputId": "c374d54a-afd1-4278-a797-eb352b35a854"
   },
   "outputs": [],
   "source": [
    "train_data['DESCRIPTION_length'] = train_data['DESCRIPTION'].apply(len)\n",
    "plt.figure(figsize=(15, 10))\n",
    "sns.barplot(x='GENRE', y= 'DESCRIPTION_length', data=train_data)\n",
    "plt.title('Description Length by Genre')\n",
    "plt.xticks(rotation=45)\n",
    "plt.xlabel('Genre')\n",
    "plt.ylabel('Description Length')\n",
    "plt.show()"
   ]
  },
  {
   "cell_type": "code",
   "execution_count": null,
   "metadata": {
    "colab": {
     "base_uri": "https://localhost:8080/",
     "height": 728
    },
    "executionInfo": {
     "elapsed": 148,
     "status": "ok",
     "timestamp": 1753074864126,
     "user": {
      "displayName": "padmini Kondapalli",
      "userId": "14629675790442840519"
     },
     "user_tz": -330
    },
    "id": "XYVLhsAMWtYq",
    "outputId": "fd5ffcde-12b2-4753-cf51-97de0762163a"
   },
   "outputs": [],
   "source": [
    "top_genres = train_data['GENRE'].value_counts().head (10)\n",
    "plt.figure(figsize=(20, 10))\n",
    "top_genres.plot(kind='barh', color='cyan')\n",
    "plt.title('Top 10 Most Frequent Genres')\n",
    "plt.xlabel('Number of Movies')\n",
    "plt.ylabel('Genre')\n",
    "plt.gca().invert_yaxis() # Invert y-axis to have the genre with the most movies at the top\n",
    "plt.show()"
   ]
  },
  {
   "cell_type": "code",
   "execution_count": null,
   "metadata": {
    "colab": {
     "base_uri": "https://localhost:8080/"
    },
    "executionInfo": {
     "elapsed": 4924,
     "status": "ok",
     "timestamp": 1753074869028,
     "user": {
      "displayName": "padmini Kondapalli",
      "userId": "14629675790442840519"
     },
     "user_tz": -330
    },
    "id": "AsOtyEYFWvEP",
    "outputId": "80f37edf-c06d-409d-cb34-e9363fe9db04"
   },
   "outputs": [],
   "source": [
    "train_data['DESCRIPTION'].fillna(\"\", inplace=True)\n",
    "test_data['DESCRIPTION'].fillna(\"\", inplace=True)\n",
    "t_v = TfidfVectorizer(stop_words='english', max_features=100000)\n",
    "X_train = t_v.fit_transform(train_data['DESCRIPTION'])\n",
    "X_test = t_v.transform(test_data['DESCRIPTION'])\n",
    "label_encoder = LabelEncoder()\n",
    "y_train = label_encoder.fit_transform(train_data['GENRE'])\n",
    "y_test = label_encoder.transform(test_solution_data['GENRE'])"
   ]
  },
  {
   "cell_type": "code",
   "execution_count": null,
   "metadata": {
    "colab": {
     "base_uri": "https://localhost:8080/"
    },
    "executionInfo": {
     "elapsed": 8298,
     "status": "ok",
     "timestamp": 1753074877327,
     "user": {
      "displayName": "padmini Kondapalli",
      "userId": "14629675790442840519"
     },
     "user_tz": -330
    },
    "id": "UtBaV6AJWyLk",
    "outputId": "e1b191dd-f577-46c4-a2ed-e09ab41526d5"
   },
   "outputs": [],
   "source": [
    "X_train_sub, X_val, y_train_sub, y_val = train_test_split(X_train, y_train, test_size=0.2, random_state=42)\n",
    "\n",
    "clf = LinearSVC()\n",
    "clf.fit(X_train_sub, y_train_sub)\n",
    "\n",
    "y_val_pred = clf.predict(X_val)\n",
    "print(\"Validation Accuracy:\", accuracy_score(y_val, y_val_pred))\n",
    "print(\"Validation Classification Report: \\n\", classification_report(y_val, y_val_pred))"
   ]
  },
  {
   "cell_type": "code",
   "execution_count": null,
   "metadata": {
    "colab": {
     "base_uri": "https://localhost:8080/"
    },
    "executionInfo": {
     "elapsed": 70,
     "status": "ok",
     "timestamp": 1753074877352,
     "user": {
      "displayName": "padmini Kondapalli",
      "userId": "14629675790442840519"
     },
     "user_tz": -330
    },
    "id": "-7G4kDwQW2rs",
    "outputId": "2289f2b9-a8f8-4d36-cb31-23624ca9656f"
   },
   "outputs": [],
   "source": [
    "y_pred = clf.predict(X_val)\n",
    "print(\"Test Accuracy:\", accuracy_score(y_val, y_pred))\n",
    "print(\"Test Classification Report: \\n\", classification_report(y_val, y_val_pred))"
   ]
  },
  {
   "cell_type": "code",
   "execution_count": null,
   "metadata": {
    "executionInfo": {
     "elapsed": 32,
     "status": "ok",
     "timestamp": 1753074877389,
     "user": {
      "displayName": "padmini Kondapalli",
      "userId": "14629675790442840519"
     },
     "user_tz": -330
    },
    "id": "8KkE4GRuW5zL"
   },
   "outputs": [],
   "source": [
    "def predict_movie(description):\n",
    "    t_v1 = t_v.transform([description])\n",
    "    pred_label = clf.predict(t_v1)\n",
    "    return label_encoder.inverse_transform(pred_label)[0]"
   ]
  },
  {
   "cell_type": "code",
   "execution_count": null,
   "metadata": {
    "colab": {
     "base_uri": "https://localhost:8080/"
    },
    "executionInfo": {
     "elapsed": 45,
     "status": "ok",
     "timestamp": 1753074877467,
     "user": {
      "displayName": "padmini Kondapalli",
      "userId": "14629675790442840519"
     },
     "user_tz": -330
    },
    "id": "55DYVazXW8P1",
    "outputId": "3f51f2d6-fc04-4888-ff86-e967757b2a66"
   },
   "outputs": [],
   "source": [
    "sample_descr_for_movie =  \"  Ex-Formula 1 rookie of the year and Motor Racing Champion Tiago Monteiro is an Official SEAT Sport driver in the World Touring Car Championship (WTCC), an Official ORECA driver at the 24 hours of LeMans and 1000km of Algarve, the owner and team principal of GP2 Ocean Racing team, the owner of two brand new hip restaurants in his native Porto, the owner of a clothing and events company, not to mention a husband and father of two. This is the amazing story of the world's busiest athlete.\"\n",
    "print(predict_movie(sample_descr_for_movie))\n",
    "sample_descr_for_movie =  \" Press is a story of young people overwhelmed by social discord and their surroundings. The film concisely depicts multiple factors underlying this situation. These are things that could affect any of us. People tend to clam up and stop communicating when depressed or upset. It is also not uncommon for people to note the expression on an individual's face and decide to leave them alone, even if the individual concerned does not actually consider their problem to be serious. The events in this film are no exaggeration. Rather, they are emblematic of a modern disease, in which a family and those surrounding it slip into a negative momentum. How to address the problem of communication breakdown is a question with great value and meaning for contemporary society\"\n",
    "print(predict_movie(sample_descr_for_movie))"
   ]
  }
 ],
 "metadata": {
  "colab": {
   "authorship_tag": "ABX9TyMb9JKDF3Z3Guy5KtyLeRag",
   "mount_file_id": "1QbB8d8QMJdHA7Jvy4-M9N9bxmphOzpEd",
   "provenance": []
  },
  "kernelspec": {
   "display_name": "Python 3",
   "name": "python3"
  },
  "language_info": {
   "name": "python",
   "version": "3.10.11"
  }
 },
 "nbformat": 4,
 "nbformat_minor": 0
}
